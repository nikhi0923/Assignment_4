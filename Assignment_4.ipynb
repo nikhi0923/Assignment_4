{
 "cells": [
  {
   "cell_type": "markdown",
   "id": "e343c6e6",
   "metadata": {},
   "source": [
    "1.The symbol \"[]\" represents an empty square bracket or an empty list \n",
    "which is a collection of values. You can later add elements to this list using various methods and operations.\n",
    "empty_list = []\n",
    "-"
   ]
  },
  {
   "cell_type": "code",
   "execution_count": null,
   "id": "d2b2f644",
   "metadata": {},
   "outputs": [],
   "source": [
    "#2\n",
    "spam = [2, 4, 6, 8, 10]\n",
    "spam[2] = 'hello'\n"
   ]
  },
  {
   "cell_type": "code",
   "execution_count": null,
   "id": "b9d4f66f",
   "metadata": {},
   "outputs": [],
   "source": [
    "#3\n",
    "spam[int(int('3' * 2) / 11)] will result in an IndexError."
   ]
  },
  {
   "cell_type": "code",
   "execution_count": null,
   "id": "1fae640d",
   "metadata": {},
   "outputs": [],
   "source": [
    "#4\n",
    "spam[-1] is 'c'."
   ]
  },
  {
   "cell_type": "code",
   "execution_count": null,
   "id": "b0adefc9",
   "metadata": {},
   "outputs": [],
   "source": [
    "#5\n",
    "spam[:2] is ['a', 'b']."
   ]
  },
  {
   "cell_type": "code",
   "execution_count": null,
   "id": "40a16340",
   "metadata": {},
   "outputs": [],
   "source": [
    "#6\n",
    "bacon.index('cat') will return 1."
   ]
  },
  {
   "cell_type": "code",
   "execution_count": null,
   "id": "9cbdd967",
   "metadata": {},
   "outputs": [],
   "source": [
    "#7\n",
    "bacon will become [3.14, 'cat', '11', 'cat', True, 99] after bacon.append(99)."
   ]
  },
  {
   "cell_type": "code",
   "execution_count": null,
   "id": "409ad0ba",
   "metadata": {},
   "outputs": [],
   "source": [
    "#8\n",
    "bacon will become [3.14, '11', 'cat', True, 99] after bacon.remove('cat')."
   ]
  },
  {
   "cell_type": "markdown",
   "id": "b048a29f",
   "metadata": {},
   "source": [
    "9.List Concatenation Operator (+):\n",
    "The + operator is used to concatenate (combine) two or more lists to create a new list.\n"
   ]
  },
  {
   "cell_type": "code",
   "execution_count": 3,
   "id": "f03ef202",
   "metadata": {},
   "outputs": [
    {
     "name": "stdout",
     "output_type": "stream",
     "text": [
      "[1, 2, 3, 4, 5, 6]\n"
     ]
    }
   ],
   "source": [
    "list1 = [1, 2, 3]\n",
    "list2 = [4, 5, 6]\n",
    "concatenated_list = list1 + list2  \n",
    "print(concatenated_list)\n"
   ]
  },
  {
   "cell_type": "markdown",
   "id": "1d1aa384",
   "metadata": {},
   "source": [
    "List Replication Operator (*):\n",
    "The * operator is used to replicate a list by a specified number of times to create a new list."
   ]
  },
  {
   "cell_type": "code",
   "execution_count": 4,
   "id": "a3806f85",
   "metadata": {},
   "outputs": [
    {
     "name": "stdout",
     "output_type": "stream",
     "text": [
      "[0, 1, 0, 1, 0, 1]\n"
     ]
    }
   ],
   "source": [
    "original_list = [0, 1]\n",
    "replicated_list = original_list * 3  \n",
    "print(replicated_list)\n"
   ]
  },
  {
   "cell_type": "markdown",
   "id": "f8a40eab",
   "metadata": {},
   "source": [
    "10.append() Method:\n",
    "\n",
    "The append() method is used to add an element to the end of a list.\n",
    "It takes a single argument, which is the element you want to add.\n",
    "The new element becomes the last element of the list.\n"
   ]
  },
  {
   "cell_type": "code",
   "execution_count": 6,
   "id": "367acf32",
   "metadata": {},
   "outputs": [
    {
     "name": "stdout",
     "output_type": "stream",
     "text": [
      "[1, 2, 3, 4]\n"
     ]
    }
   ],
   "source": [
    "my_list = [1, 2, 3]\n",
    "my_list.append(4)\n",
    "print(my_list)\n"
   ]
  },
  {
   "cell_type": "markdown",
   "id": "7a4e409f",
   "metadata": {},
   "source": [
    "insert() Method:\n",
    "\n",
    "The insert() method is used to add an element at a specific index in the list.\n",
    "It takes two arguments: the index at which you want to insert the element, and the element itself.\n",
    "The elements that come after the specified index are shifted to make space for the new element."
   ]
  },
  {
   "cell_type": "code",
   "execution_count": 7,
   "id": "b551e061",
   "metadata": {},
   "outputs": [
    {
     "name": "stdout",
     "output_type": "stream",
     "text": [
      "[1, 5, 2, 3]\n"
     ]
    }
   ],
   "source": [
    "my_list = [1, 2, 3]\n",
    "my_list.insert(1, 5)\n",
    "print(my_list)\n"
   ]
  },
  {
   "cell_type": "markdown",
   "id": "db318fd2",
   "metadata": {},
   "source": [
    "11.remove() Method:\n",
    "\n",
    "The remove() method is used to remove the first occurrence of a specific value from the list.\n",
    "It takes a single argument, which is the value you want to remove.\n",
    "If the value is found in the list, it will be removed. If the value appears multiple times, only the first occurrence will be removed."
   ]
  },
  {
   "cell_type": "code",
   "execution_count": 8,
   "id": "8f1f7b44",
   "metadata": {},
   "outputs": [
    {
     "name": "stdout",
     "output_type": "stream",
     "text": [
      "[1, 3, 2, 4]\n"
     ]
    }
   ],
   "source": [
    "my_list = [1, 2, 3, 2, 4]\n",
    "my_list.remove(2)\n",
    "print(my_list)\n"
   ]
  },
  {
   "cell_type": "markdown",
   "id": "37cacca8",
   "metadata": {},
   "source": [
    "pop() Method:\n",
    "\n",
    "The pop() method is used to remove an item at a specific index from the list.\n",
    "It takes an optional index argument. If no index is provided, it will remove and return the last item from the list.\n",
    "If an index is provided, it will remove and return the item at that index, shifting the remaining elements accordingly."
   ]
  },
  {
   "cell_type": "code",
   "execution_count": 9,
   "id": "5285abc3",
   "metadata": {},
   "outputs": [
    {
     "name": "stdout",
     "output_type": "stream",
     "text": [
      "[1, 3, 4]\n"
     ]
    }
   ],
   "source": [
    "my_list = [1, 2, 3, 4]\n",
    "popped_item = my_list.pop(1)\n",
    "print(my_list)\n"
   ]
  },
  {
   "cell_type": "markdown",
   "id": "ed79f2ae",
   "metadata": {},
   "source": [
    "12.Mutability: One of the most significant differences is mutability. Lists are mutable, meaning you can change their elements (add, remove, modify), while strings are immutable, meaning you cannot change individual characters within a string. You can create a new string with desired modifications.\n",
    "\n",
    "Data Types: Lists can contain elements of different data types, whereas strings are made up of characters and are limited to containing characters only.\n",
    "\n",
    "Methods: Lists and strings have some methods in common (like indexing and slicing), but they also have their own specific methods. For example, lists have methods like append(), pop(), and remove(), while strings have methods like upper(), lower(), and replace().\n",
    "\n",
    "Concatenation and Replication: Both lists and strings support concatenation (combining two collections) and replication (repeating a collection multiple times) using + and * operators, respectively.\n",
    "\n",
    "Memory: Strings often have optimizations for memory usage due to their immutability, \n",
    "while lists may require more memory due to their potential for dynamic resizing.\n",
    "\n",
    "In summary, while lists and strings share some similarities due to their nature as ordered collections, they have distinct characteristics, especially regarding mutability and the types of operations you can perform on them."
   ]
  },
  {
   "cell_type": "markdown",
   "id": "df6a3695",
   "metadata": {},
   "source": [
    "13.the main difference between tuples and lists lies in their mutability. Lists are mutable and can be modified after creation, while tuples are immutable and their content cannot be changed after creation. The choice between tuples and lists depends on your specific use case and whether you need the ability to modify the data or if you want to ensure its integrity throughout the program."
   ]
  },
  {
   "cell_type": "code",
   "execution_count": null,
   "id": "6cfa7079",
   "metadata": {},
   "outputs": [],
   "source": [
    "my_list = [1, 2, 3]\n",
    "my_tuple = (1, 2, 3)\n"
   ]
  },
  {
   "cell_type": "markdown",
   "id": "e6afb0c9",
   "metadata": {},
   "source": [
    "14.To create a tuple with a single value (in this case, the integer 42), you need to include a comma after the value.\n",
    "my_tuple = (42,)\n"
   ]
  },
  {
   "cell_type": "markdown",
   "id": "21b112ed",
   "metadata": {},
   "source": [
    "15.o convert between a list and a tuple you can use the tuple() constructor to convert a list to a tuple, and the list() constructor to convert a tuple to a list\n",
    "\n",
    "my_list = [1, 2, 3, 4]\n",
    "my_tuple = tuple(my_list)\n"
   ]
  },
  {
   "cell_type": "markdown",
   "id": "b38ea353",
   "metadata": {},
   "source": [
    "16.Variables that \"contain\" list values in Python do not directly contain the list itself. Instead, they contain references to the list. In other words, the variable stores the memory address where the list is stored in the computer's memory. This concept is known as reference semantics."
   ]
  },
  {
   "cell_type": "code",
   "execution_count": 10,
   "id": "10b36f5a",
   "metadata": {},
   "outputs": [
    {
     "name": "stdout",
     "output_type": "stream",
     "text": [
      "[10, 2, 3]\n"
     ]
    }
   ],
   "source": [
    "list1 = [1, 2, 3]\n",
    "list2 = list1\n",
    "\n",
    "list2[0] = 10\n",
    "\n",
    "print(list1) \n"
   ]
  },
  {
   "cell_type": "markdown",
   "id": "f4cc89fe",
   "metadata": {},
   "source": [
    "17.copy.copy():\n",
    "The copy.copy() function creates a shallow copy of an object. Shallow copy means that it duplicates the top-level object, but any nested objects within the original object are still referenced in the copied object. In other words, if you modify a nested object in the copied data, the change will also be reflected in the original data and vice versa."
   ]
  },
  {
   "cell_type": "code",
   "execution_count": 11,
   "id": "a8252c18",
   "metadata": {},
   "outputs": [
    {
     "name": "stdout",
     "output_type": "stream",
     "text": [
      "[[10, 2, 3], [4, 5, 6]]\n"
     ]
    }
   ],
   "source": [
    "import copy\n",
    "\n",
    "original_list = [[1, 2, 3], [4, 5, 6]]\n",
    "copied_list = copy.copy(original_list)\n",
    "\n",
    "copied_list[0][0] = 10\n",
    "\n",
    "print(original_list) \n"
   ]
  },
  {
   "cell_type": "markdown",
   "id": "f61e2250",
   "metadata": {},
   "source": [
    "copy.deepcopy():\n",
    "The copy.deepcopy() function creates a deep copy of an object. Deep copy means that it duplicates the top-level object and all nested objects within it. This creates a completely independent copy that does not share any references with the original object."
   ]
  },
  {
   "cell_type": "code",
   "execution_count": 12,
   "id": "9fcd54da",
   "metadata": {},
   "outputs": [
    {
     "name": "stdout",
     "output_type": "stream",
     "text": [
      "[[1, 2, 3], [4, 5, 6]]\n"
     ]
    }
   ],
   "source": [
    "import copy\n",
    "\n",
    "original_list = [[1, 2, 3], [4, 5, 6]]\n",
    "deep_copied_list = copy.deepcopy(original_list)\n",
    "\n",
    "deep_copied_list[0][0] = 10\n",
    "\n",
    "print(original_list)  \n"
   ]
  },
  {
   "cell_type": "code",
   "execution_count": null,
   "id": "ac3cb714",
   "metadata": {},
   "outputs": [],
   "source": []
  }
 ],
 "metadata": {
  "kernelspec": {
   "display_name": "Python 3 (ipykernel)",
   "language": "python",
   "name": "python3"
  },
  "language_info": {
   "codemirror_mode": {
    "name": "ipython",
    "version": 3
   },
   "file_extension": ".py",
   "mimetype": "text/x-python",
   "name": "python",
   "nbconvert_exporter": "python",
   "pygments_lexer": "ipython3",
   "version": "3.10.9"
  }
 },
 "nbformat": 4,
 "nbformat_minor": 5
}
